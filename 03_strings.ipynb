{
 "cells": [
  {
   "cell_type": "markdown",
   "metadata": {},
   "source": [
    "1. Create a function called return_non_empty_string that returns a non-empty string."
   ]
  },
  {
   "cell_type": "code",
   "execution_count": null,
   "metadata": {},
   "outputs": [],
   "source": [
    "# your code here\n",
    "\n",
    "# uncomment below to see the output\n",
    "# print(return_non_empty_string())\n",
    "# print(type(return_non_empty_string()))"
   ]
  },
  {
   "cell_type": "markdown",
   "metadata": {},
   "source": [
    "2. Create a function called non_empty_string_length that takes a string as a parameter and returns the length of a non-empty string."
   ]
  },
  {
   "cell_type": "code",
   "execution_count": null,
   "metadata": {},
   "outputs": [],
   "source": [
    "# your code here\n",
    "\n",
    "# uncomment below to see the output\n",
    "# print(non_empty_string_length(\"Supercalifragilisticexpialidocious\"))\n",
    "# print(type(non_empty_string_length(\"Supercal\")))"
   ]
  },
  {
   "cell_type": "markdown",
   "metadata": {},
   "source": [
    "3. Create a function called concatenate_strings that takes two strings as parameters and returns the concatenation of the two strings.\n"
   ]
  },
  {
   "cell_type": "code",
   "execution_count": null,
   "metadata": {},
   "outputs": [],
   "source": [
    "# your code here\n",
    "\n",
    "# uncomment below to see the output\n",
    "# print(concatenate_strings(\"Hello\", \"World\"))\n",
    "# print(type(concatenate_strings(\"Hello\", \"World\")))"
   ]
  },
  {
   "cell_type": "markdown",
   "metadata": {},
   "source": [
    "4. Create a function called access_string_element that takes a string and an index as parameters and returns the element at the given index."
   ]
  },
  {
   "cell_type": "code",
   "execution_count": null,
   "metadata": {},
   "outputs": [],
   "source": [
    "# your code here\n",
    "\n",
    "# uncomment below to see the output\n",
    "# print(access_string_element(\"Supercalifragilisticexpialidocious\", 10))\n",
    "# print(type(access_string_element(\"Supercalifragilisticexpialidocious\", 10)))"
   ]
  }
 ],
 "metadata": {
  "language_info": {
   "name": "python"
  }
 },
 "nbformat": 4,
 "nbformat_minor": 2
}
