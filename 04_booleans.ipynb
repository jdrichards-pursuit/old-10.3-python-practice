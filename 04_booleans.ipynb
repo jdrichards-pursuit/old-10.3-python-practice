{
 "cells": [
  {
   "cell_type": "markdown",
   "metadata": {},
   "source": [
    "1. Create a function called flip_boolean that takes an input and returns false if the input is true or truthy and true if the input is false or falsy."
   ]
  },
  {
   "cell_type": "code",
   "execution_count": 1,
   "metadata": {},
   "outputs": [],
   "source": [
    "#your code here\n",
    "\n",
    "# uncomment below to see the output\n",
    "# print(flip_boolean(True))\n",
    "# print(flip_boolean(False))\n",
    "# print(flip_boolean(0))\n",
    "# print(flip_boolean(1))\n",
    "# print(flip_boolean([]))\n",
    "# print(flip_boolean(\"\"))\n",
    "# print(flip_boolean(\"Hello\"))"
   ]
  },
  {
   "cell_type": "markdown",
   "metadata": {},
   "source": [
    "2. Create a function called check_equality that takes two inputs and returns true if they are equal and false if they are not."
   ]
  },
  {
   "cell_type": "code",
   "execution_count": 7,
   "metadata": {},
   "outputs": [
    {
     "name": "stdout",
     "output_type": "stream",
     "text": [
      "False\n"
     ]
    }
   ],
   "source": [
    "# your code here\n",
    "\n",
    "\n",
    "# uncomment below to see the output\n",
    "# print(check_equality(1, 1))\n",
    "# print(check_equality(1, 2))\n",
    "# print(check_equality(\"Hello\", \"Hello\"))\n",
    "# print(check_equality(\"Hello\", \"hello\"))\n",
    "# print(check_equality((1, 2, 3), (1, 2, 3)))\n",
    "# print(check_equality([1, 2, 3], [1, 2, 4]))"
   ]
  }
 ],
 "metadata": {
  "kernelspec": {
   "display_name": "venv",
   "language": "python",
   "name": "python3"
  },
  "language_info": {
   "codemirror_mode": {
    "name": "ipython",
    "version": 3
   },
   "file_extension": ".py",
   "mimetype": "text/x-python",
   "name": "python",
   "nbconvert_exporter": "python",
   "pygments_lexer": "ipython3",
   "version": "3.12.5"
  }
 },
 "nbformat": 4,
 "nbformat_minor": 2
}
