{
 "cells": [
  {
   "cell_type": "markdown",
   "metadata": {},
   "source": [
    "1. Create a function called return_larger that takes two numbers and returns the larger number"
   ]
  },
  {
   "cell_type": "code",
   "execution_count": null,
   "metadata": {},
   "outputs": [],
   "source": [
    "\n",
    "#Your code here\n",
    "\n",
    "# Uncomment below to see the output\n",
    "# print(return_larger(1, 2))\n",
    "# print(return_larger(10, 5))\n",
    "# print(return_larger(0, 0))\n",
    "# print(return_larger(-1, -2))"
   ]
  },
  {
   "cell_type": "markdown",
   "metadata": {},
   "source": [
    "2. Create a function called larger_or_equal that takes two numbers and returns the larger number or the string \"Equal\" if they are equal"
   ]
  },
  {
   "cell_type": "code",
   "execution_count": null,
   "metadata": {},
   "outputs": [],
   "source": [
    "#your code here\n",
    "\n",
    "#uncomment below to see the output\n",
    "# print(larger_or_equal(1, 2))\n",
    "# print(larger_or_equal(5, 5))\n"
   ]
  },
  {
   "cell_type": "markdown",
   "metadata": {},
   "source": [
    "3. Create a function called postive_negative_or_zero that takes a number and returns the string \"Positive\" if the number is positive, \"Negative\" if the number is negative, or \"Zero\" if the number is zero"
   ]
  },
  {
   "cell_type": "code",
   "execution_count": null,
   "metadata": {},
   "outputs": [],
   "source": [
    "#your code here\n",
    "\n",
    "#uncomment below to see the output\n",
    "# print(postive_negative_or_zero(1))\n",
    "# print(postive_negative_or_zero(-1))\n",
    "# print(postive_negative_or_zero(0))"
   ]
  },
  {
   "cell_type": "markdown",
   "metadata": {},
   "source": [
    "4. Create a function called language_detector that takes a string representing a language and returns the string for \"Hello, World\", if the language is English, \"Hola Mundo\" if the language is Spanish, or \"Unknown\" if the language is not English or Spanish"
   ]
  },
  {
   "cell_type": "code",
   "execution_count": null,
   "metadata": {},
   "outputs": [],
   "source": [
    "#your code here\n",
    "\n",
    "#uncomment below to see the output\n",
    "# print(language_detector(\"English\"))\n",
    "# print(language_detector(\"Spanish\"))\n",
    "# print(language_detector(\"French\"))"
   ]
  },
  {
   "cell_type": "markdown",
   "metadata": {},
   "source": [
    "5. Create a function called calculate_grade that takes a number representing a grade and returns the string \"A\" if the grade is 90 or above, \"B\" if the grade is between 80 and 90, \"C\" if the grade is  between 70 and 80, \"D\" if the grade is between 60 and 70, or \"F\" if the grade is below 60"
   ]
  },
  {
   "cell_type": "code",
   "execution_count": null,
   "metadata": {},
   "outputs": [],
   "source": [
    "#your code here\n",
    "\n",
    "#uncomment below to see the output\n",
    "# print(calculate_grade(90))\n",
    "# print(calculate_grade(80))\n",
    "# print(calculate_grade(70))\n",
    "# print(calculate_grade(60))\n",
    "# print(calculate_grade(50))"
   ]
  },
  {
   "cell_type": "markdown",
   "metadata": {},
   "source": [
    "6. Create a function called animal_counter that takes a string and a number and returns a string with the number and the animal type.\n",
    "\n",
    "EXAMPLE:\n",
    " animalCounts(\"dog\", 2);\n",
    " Output: \"2 dogs\"\n",
    " \n",
    " animalCounts(\"pig\", 1);\n",
    " Output: \"1 pig\"\n",
    " "
   ]
  },
  {
   "cell_type": "code",
   "execution_count": null,
   "metadata": {},
   "outputs": [],
   "source": [
    "#your code here\n",
    "\n",
    "#uncomment below to see the output\n",
    "# print(animal_counter(\"dog\", 2))\n",
    "# print(animal_counter(\"pig\", 1))"
   ]
  },
  {
   "cell_type": "markdown",
   "metadata": {},
   "source": [
    "Create a function called even_or_odd that takes a number and returns the string \"Even\" if the number is even, or \"Odd\" if the number is odd. If the number is a float, convert it to an integer and then check if it is even or odd."
   ]
  },
  {
   "cell_type": "code",
   "execution_count": 2,
   "metadata": {},
   "outputs": [
    {
     "name": "stdout",
     "output_type": "stream",
     "text": [
      "Odd\n"
     ]
    }
   ],
   "source": [
    "#your code here\n",
    "\n",
    "#uncomment below to see the output\n",
    "# print(even_or_odd(2))\n",
    "# print(even_or_odd(3))\n",
    "# print(even_or_odd(4.3))\n",
    "# print(even_or_odd(5.6))"
   ]
  }
 ],
 "metadata": {
  "kernelspec": {
   "display_name": "venv",
   "language": "python",
   "name": "python3"
  },
  "language_info": {
   "codemirror_mode": {
    "name": "ipython",
    "version": 3
   },
   "file_extension": ".py",
   "mimetype": "text/x-python",
   "name": "python",
   "nbconvert_exporter": "python",
   "pygments_lexer": "ipython3",
   "version": "3.12.5"
  }
 },
 "nbformat": 4,
 "nbformat_minor": 2
}
