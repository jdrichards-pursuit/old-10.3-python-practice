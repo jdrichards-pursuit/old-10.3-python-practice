{
 "cells": [
  {
   "cell_type": "markdown",
   "metadata": {},
   "source": [
    "1. Create a function called return_sum_of_two_numbers that accepts two parameters and returns the sum of two numbers."
   ]
  },
  {
   "cell_type": "code",
   "execution_count": null,
   "metadata": {},
   "outputs": [],
   "source": [
    "# your code here\n",
    "\n",
    "# Uncomment 2 lines below to test\n",
    "# print(return_sum_of_two_numbers(1, 2))\n",
    "#print(type(return_sum_of_two_numbers(1, 2)))\n",
    "\n"
   ]
  },
  {
   "cell_type": "markdown",
   "metadata": {},
   "source": [
    "2. Create a function called return_difference_of_two_numbers that accepts two parameters and returns the difference of two numbers."
   ]
  },
  {
   "cell_type": "code",
   "execution_count": null,
   "metadata": {},
   "outputs": [],
   "source": [
    "# your code here\n",
    "\n",
    "\n",
    "# uncomment 2 lines below to test\n",
    "# print(return_difference_of_two_numbers(2, 1))\n",
    "# print(type(return_difference_of_two_numbers(2, 1)))"
   ]
  },
  {
   "cell_type": "markdown",
   "metadata": {},
   "source": [
    "3. Create a function called return_product_of_two_numbers that accepts two parameters and returns the product of two numbers.\n"
   ]
  },
  {
   "cell_type": "code",
   "execution_count": null,
   "metadata": {},
   "outputs": [],
   "source": [
    "# your code here\n",
    "\n",
    "# print(return_product_of_two_numbers(2, 3))\n",
    "# print(type(return_product_of_two_numbers(2, 3)))"
   ]
  },
  {
   "cell_type": "markdown",
   "metadata": {},
   "source": [
    "4. Create a function called return_quotient_of_two_numbers that accepts two parameters and returns the quotient of two numbers."
   ]
  },
  {
   "cell_type": "code",
   "execution_count": null,
   "metadata": {},
   "outputs": [],
   "source": [
    "# your code here\n",
    "\n",
    "# print(return_quotient_of_two_numbers(8, 2))\n",
    "# print(type(return_quotient_of_two_numbers(8, 2)))"
   ]
  },
  {
   "cell_type": "markdown",
   "metadata": {},
   "source": [
    "5. Create a function called return_remainder_of_two_numbers that accepts two parameters and returns the remainder of two numbers."
   ]
  },
  {
   "cell_type": "code",
   "execution_count": null,
   "metadata": {},
   "outputs": [],
   "source": [
    "# your code here\n",
    "\n",
    "# print(return_remainder_of_two_numbers(7, 2))\n",
    "# print(type(return_remainder_of_two_numbers(7, 2)))"
   ]
  }
 ],
 "metadata": {
  "language_info": {
   "name": "python"
  }
 },
 "nbformat": 4,
 "nbformat_minor": 2
}
