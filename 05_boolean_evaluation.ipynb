{
 "cells": [
  {
   "cell_type": "markdown",
   "metadata": {},
   "source": [
    "Create a function called check_both_truthy that takes two inputs and returns true if both boolean values are truthy"
   ]
  },
  {
   "cell_type": "code",
   "execution_count": 2,
   "metadata": {},
   "outputs": [
    {
     "name": "stdout",
     "output_type": "stream",
     "text": [
      "False\n"
     ]
    }
   ],
   "source": [
    "#your code here\n",
    "\n",
    "#uncomment below to see the output\n",
    "# print(check_both_truthy(True, True))\n",
    "# print(check_both_truthy(True, False))\n",
    "# print(check_both_truthy(0, 1))\n",
    "# print(check_both_truthy([], []))\n"
   ]
  },
  {
   "cell_type": "markdown",
   "metadata": {},
   "source": [
    "Create a function called check_one_truthy that takes two inputs and returns true if only one of the boolean values is truthy"
   ]
  },
  {
   "cell_type": "code",
   "execution_count": 4,
   "metadata": {},
   "outputs": [
    {
     "name": "stdout",
     "output_type": "stream",
     "text": [
      "False\n"
     ]
    }
   ],
   "source": [
    "#your code here\n",
    "def check_one_truthy(input1, input2):\n",
    "    return bool(input1) or bool(input2)\n",
    "#uncomment below to see the output\n",
    "# print(check_one_truthy(True, True))\n",
    "# print(check_one_truthy(True, False))\n",
    "# print(check_one_truthy(0, 1))\n",
    "# print(check_one_truthy([], []))"
   ]
  },
  {
   "cell_type": "markdown",
   "metadata": {},
   "source": [
    "Create a function return_ab_or_cd that takes 4 values and returns true if the first two values are truthy or the last two values are truthy"
   ]
  },
  {
   "cell_type": "code",
   "execution_count": 7,
   "metadata": {},
   "outputs": [
    {
     "name": "stdout",
     "output_type": "stream",
     "text": [
      "True\n"
     ]
    }
   ],
   "source": [
    "#your code here\n",
    "\n",
    "#uncomment below to see the output\n",
    "# print(return_ab_or_cd(False, False, True, True))\n",
    "# print(return_ab_or_cd(True, False, False, False))\n",
    "# print(return_ab_or_cd('dog', 'cat', '', 'fish'))\n",
    "# print(return_ab_or_cd(0, 0, 1, 1))"
   ]
  },
  {
   "cell_type": "markdown",
   "metadata": {},
   "source": [
    "Create a function return_first_truthy that takes 4 values and returns the first truthy value\n"
   ]
  },
  {
   "cell_type": "code",
   "execution_count": null,
   "metadata": {},
   "outputs": [],
   "source": [
    "#your code here\n",
    "\n",
    "#uncomment below to see the output\n",
    "# print(return_first_truthy(False, False, True, True))\n",
    "# print(return_first_truthy(True, False, False, False))\n",
    "# print(return_first_truthy('dog', 'cat', '', 'fish'))\n",
    "# print(return_first_truthy(0, 0, 1, 1))"
   ]
  },
  {
   "cell_type": "markdown",
   "metadata": {},
   "source": []
  },
  {
   "cell_type": "code",
   "execution_count": null,
   "metadata": {},
   "outputs": [],
   "source": []
  }
 ],
 "metadata": {
  "kernelspec": {
   "display_name": "venv",
   "language": "python",
   "name": "python3"
  },
  "language_info": {
   "codemirror_mode": {
    "name": "ipython",
    "version": 3
   },
   "file_extension": ".py",
   "mimetype": "text/x-python",
   "name": "python",
   "nbconvert_exporter": "python",
   "pygments_lexer": "ipython3",
   "version": "3.12.5"
  }
 },
 "nbformat": 4,
 "nbformat_minor": 2
}
